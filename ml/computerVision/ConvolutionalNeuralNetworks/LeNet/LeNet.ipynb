{
  "nbformat": 4,
  "nbformat_minor": 0,
  "metadata": {
    "colab": {
      "provenance": []
    },
    "kernelspec": {
      "name": "python3",
      "display_name": "Python 3"
    },
    "language_info": {
      "name": "python"
    }
  },
  "cells": [
    {
      "cell_type": "code",
      "source": [
        "import torch\n",
        "import torchvision\n",
        "import torchvision.transforms as transforms\n",
        "import matplotlib.pyplot as plt\n",
        "import random\n",
        "from torch.utils.data import DataLoader\n",
        "import torch.nn as nn\n",
        "import torch.optim as optim"
      ],
      "metadata": {
        "id": "sFzLrD-53LaS"
      },
      "execution_count": 9,
      "outputs": []
    },
    {
      "cell_type": "code",
      "source": [
        "class LeNet(nn.Module):\n",
        "  def __init__(self):\n",
        "    super(LeNet, self).__init__()\n",
        "\n",
        "    # Explicit Layer Definitions\n",
        "\n",
        "    # Convolutional Layer 1: Input (1, 28, 28) -> Output (6, 24, 24)\n",
        "    self.conv1 = nn.Conv2d(in_channels=1, out_channels=6, kernel_size=5)\n",
        "    # Pooling Layer 1: Input (6, 24, 24) -> Output (6, 12, 12)\n",
        "    self.pool1 = nn.MaxPool2d(kernel_size=2, stride=2)\n",
        "\n",
        "    # Convolutional Layer 2: Input (6, 12, 12) -> Output (16, 8, 8)\n",
        "    self.conv2 = nn.Conv2d(in_channels=6, out_channels=16, kernel_size=5)\n",
        "    # Pooling Layer 2: Input (16, 8, 8) -> Output (16, 4, 4)\n",
        "    self.pool2 = nn.MaxPool2d(kernel_size=2, stride=2)\n",
        "\n",
        "    # Fully Connected Layer 1: Input (16*4*4) -> Output (120)\n",
        "    self.fc1 = nn.Linear(16 * 4 * 4, 120)\n",
        "\n",
        "    # Fully Connected Layer 2: Input (120) -> Output (84)\n",
        "    self.fc2 = nn.Linear(120, 84)\n",
        "\n",
        "    # Output Layer: Input (84) -> Output (10) (for 10 digit classes)\n",
        "    self.fc3 = nn.Linear(84, 10)\n",
        "\n",
        "  def forward(self, x):\n",
        "    # Apply Convolution Layer 1, followed by Tanh activation and Pooling\n",
        "    x = torch.tanh(self.conv1(x))\n",
        "    x = self.pool1(x)\n",
        "\n",
        "    # Apply Convolution Layer 2, followed by Tanh activation and Pooling\n",
        "    x = torch.tanh(self.conv2(x))\n",
        "    x = self.pool2(x)\n",
        "\n",
        "    # Flatten the feature maps for the Fully Connected Layers\n",
        "    x = x.view(-1, 16 * 4 * 4)\n",
        "\n",
        "    # Apply Fully Connected Layers with Tanh activation\n",
        "    x = torch.tanh(self.fc1(x))\n",
        "    x = torch.tanh(self.fc2(x))\n",
        "\n",
        "    # Output layer (no activation function here)\n",
        "    x = self.fc3(x)\n",
        "\n",
        "    return x\n"
      ],
      "metadata": {
        "id": "mDvkTnZ1IJdf"
      },
      "execution_count": 10,
      "outputs": []
    },
    {
      "cell_type": "code",
      "source": [
        "class LeNetRelu(nn.Module):\n",
        "  def __init__(self):\n",
        "    super(LeNetRelu, self).__init__()\n",
        "\n",
        "    # Explicit Layer Definitions\n",
        "\n",
        "    # Convolutional Layer 1: Input (1, 28, 28) -> Output (6, 24, 24)\n",
        "    self.conv1 = nn.Conv2d(in_channels=1, out_channels=6, kernel_size=5)\n",
        "    # Pooling Layer 1: Input (6, 24, 24) -> Output (6, 12, 12)\n",
        "    self.pool1 = nn.MaxPool2d(kernel_size=2, stride=2)\n",
        "\n",
        "    # Convolutional Layer 2: Input (6, 12, 12) -> Output (16, 8, 8)\n",
        "    self.conv2 = nn.Conv2d(in_channels=6, out_channels=16, kernel_size=5)\n",
        "    # Pooling Layer 2: Input (16, 8, 8) -> Output (16, 4, 4)\n",
        "    self.pool2 = nn.MaxPool2d(kernel_size=2, stride=2)\n",
        "\n",
        "    # Fully Connected Layer 1: Input (16*4*4) -> Output (120)\n",
        "    self.fc1 = nn.Linear(16 * 4 * 4, 120)\n",
        "\n",
        "    # Fully Connected Layer 2: Input (120) -> Output (84)\n",
        "    self.fc2 = nn.Linear(120, 84)\n",
        "\n",
        "    # Output Layer: Input (84) -> Output (10) (for 10 digit classes)\n",
        "    self.fc3 = nn.Linear(84, 10)\n",
        "\n",
        "    # ReLu layer for activation\n",
        "    self.relu = nn.ReLU()\n",
        "\n",
        "  def forward(self, x):\n",
        "    # Forward Pass through the network with explicit layers\n",
        "\n",
        "    # First Convolution -> ReLU -> Pooling\n",
        "    x = self.pool1(self.relu(self.conv1(x)))  # (6, 12, 12)\n",
        "\n",
        "    # Second Convolution -> ReLU -> Pooling\n",
        "    x = self.pool2(self.relu(self.conv2(x)))  # (16, 4, 4)\n",
        "\n",
        "    # Flatten the output from the convolutional layers\n",
        "    x = x.view(-1, 16 * 4 * 4)  # Flattening (batch_size, 16*4*4)\n",
        "\n",
        "    # Fully Connected Layer 1 -> ReLU\n",
        "    x = self.relu(self.fc1(x))\n",
        "\n",
        "    # Fully Connected Layer 2 -> ReLU\n",
        "    x = self.relu(self.fc2(x))\n",
        "\n",
        "    # Output Layer (No activation since we use CrossEntropyLoss)\n",
        "    x = self.fc3(x)\n",
        "\n",
        "    return x"
      ],
      "metadata": {
        "id": "kWZseaAcvDZv"
      },
      "execution_count": 11,
      "outputs": []
    },
    {
      "cell_type": "code",
      "source": [
        "# Define a transform to normalize the data\n",
        "transform = transforms.Compose([transforms.ToTensor(),\n",
        "                                transforms.Normalize((0.5,), (0.5,))])\n",
        "\n",
        "trainset = torchvision.datasets.MNIST(root='./data', train=True, download=True, transform=transform)\n",
        "testset = torchvision.datasets.MNIST(root='./data', train=False, download=True, transform=transform)\n",
        "\n",
        "trainloader = DataLoader(trainset, batch_size=64, shuffle=True)\n",
        "testloader = DataLoader(testset, batch_size=64, shuffle=False)\n",
        "\n",
        "# Initialize the model, loss function, and optimizer\n",
        "device = torch.device(\"cuda\" if torch.cuda.is_available() else \"cpu\")\n",
        "model1 = LeNet().to(device)\n",
        "criterion1 = nn.CrossEntropyLoss()  # For classification problems\n",
        "optimizer1 = optim.Adam(model1.parameters(), lr=0.001)\n",
        "\n",
        "model2 = LeNetRelu().to(device)\n",
        "criterion2 = nn.CrossEntropyLoss()  # For classification problems\n",
        "optimizer2 = optim.Adam(model2.parameters(), lr=0.001)\n"
      ],
      "metadata": {
        "id": "NYCBDhGGR5eL"
      },
      "execution_count": 12,
      "outputs": []
    },
    {
      "cell_type": "code",
      "source": [
        "# Function to unnormalize and show an image\n",
        "def show_image(img):\n",
        "    img = img / 2 + 0.5  # Unnormalize\n",
        "    np_img = img.numpy()\n",
        "    plt.imshow(np_img.squeeze(), cmap=\"gray\")\n",
        "    plt.show()\n",
        "\n",
        "# Print 2 random images from the dataset\n",
        "for i in range(2):\n",
        "    img, label = random.choice(trainset)  # Randomly select an image\n",
        "    print(f'Label: {label}')\n",
        "    show_image(img)"
      ],
      "metadata": {
        "colab": {
          "base_uri": "https://localhost:8080/",
          "height": 880
        },
        "id": "b9r7yh_5R7n_",
        "outputId": "c6dd14f2-0603-44d4-99cc-9d6c2eaa1eaa"
      },
      "execution_count": 13,
      "outputs": [
        {
          "output_type": "stream",
          "name": "stdout",
          "text": [
            "Label: 7\n"
          ]
        },
        {
          "output_type": "display_data",
          "data": {
            "text/plain": [
              "<Figure size 640x480 with 1 Axes>"
            ],
            "image/png": "[encoded data removed]"
          },
          "metadata": {}
        },
        {
          "output_type": "stream",
          "name": "stdout",
          "text": [
            "Label: 9\n"
          ]
        },
        {
          "output_type": "display_data",
          "data": {
            "text/plain": [
              "<Figure size 640x480 with 1 Axes>"
            ],
            "image/png": "[encoded data removed]"
          },
          "metadata": {}
        }
      ]
    },
    {
      "cell_type": "code",
      "source": [
        "# Train the model\n",
        "def train(model, trainloader, criterion, optimizer, device, epochs=20):\n",
        "  model.train()\n",
        "  for epoch in range(epochs):\n",
        "    running_loss = 0.0\n",
        "    for images, labels in trainloader:\n",
        "      images, labels = images.to(device), labels.to(device)\n",
        "\n",
        "      # Zero the gradients\n",
        "      optimizer.zero_grad()\n",
        "\n",
        "      # Forward pass\n",
        "      outputs = model(images)\n",
        "      loss = criterion(outputs, labels)\n",
        "\n",
        "      # Backward pass and optimization\n",
        "      loss.backward()\n",
        "      optimizer.step()\n",
        "\n",
        "      running_loss += loss.item()\n",
        "\n",
        "    print(f\"Epoch [{epoch+1}/{epochs}], Loss: {running_loss/len(trainloader):.4f}\")"
      ],
      "metadata": {
        "id": "7T0-MuS2SQ1j"
      },
      "execution_count": 14,
      "outputs": []
    },
    {
      "cell_type": "code",
      "source": [
        "# Test the model on the test set\n",
        "def test(model, testloader, device):\n",
        "  model.eval()\n",
        "  correct = 0\n",
        "  total = 0\n",
        "  with torch.no_grad():\n",
        "    for images, labels in testloader:\n",
        "      images, labels = images.to(device), labels.to(device)\n",
        "      outputs = model(images)\n",
        "      _, predicted = torch.max(outputs.data, 1)\n",
        "      total += labels.size(0)\n",
        "      correct += (predicted == labels).sum().item()\n",
        "\n",
        "  print(f\"Test Accuracy: {100 * correct / total:.2f}%\")"
      ],
      "metadata": {
        "id": "SpxKBjwvSX-N"
      },
      "execution_count": 15,
      "outputs": []
    },
    {
      "cell_type": "code",
      "source": [
        "# Train and evaluate the model\n",
        "train(model1, trainloader, criterion1, optimizer1, device, epochs=20)\n",
        "test(model1, testloader, device)\n",
        "\n",
        "train(model2, trainloader, criterion1, optimizer2, device, epochs=20)\n",
        "test(model2, testloader, device)"
      ],
      "metadata": {
        "colab": {
          "base_uri": "https://localhost:8080/"
        },
        "id": "GTfIBVQHWlw8",
        "outputId": "49845293-682b-49fd-9193-fe330d05dc6a"
      },
      "execution_count": 16,
      "outputs": [
        {
          "output_type": "stream",
          "name": "stdout",
          "text": [
            "Epoch [1/20], Loss: 0.2436\n",
            "Epoch [2/20], Loss: 0.0696\n",
            "Epoch [3/20], Loss: 0.0488\n",
            "Epoch [4/20], Loss: 0.0372\n",
            "Epoch [5/20], Loss: 0.0286\n",
            "Epoch [6/20], Loss: 0.0250\n",
            "Epoch [7/20], Loss: 0.0179\n",
            "Epoch [8/20], Loss: 0.0158\n",
            "Epoch [9/20], Loss: 0.0133\n",
            "Epoch [10/20], Loss: 0.0132\n",
            "Epoch [11/20], Loss: 0.0104\n",
            "Epoch [12/20], Loss: 0.0083\n",
            "Epoch [13/20], Loss: 0.0092\n",
            "Epoch [14/20], Loss: 0.0076\n",
            "Epoch [15/20], Loss: 0.0053\n",
            "Epoch [16/20], Loss: 0.0062\n",
            "Epoch [17/20], Loss: 0.0082\n",
            "Epoch [18/20], Loss: 0.0063\n",
            "Epoch [19/20], Loss: 0.0038\n",
            "Epoch [20/20], Loss: 0.0053\n",
            "Test Accuracy: 98.48%\n",
            "Epoch [1/20], Loss: 0.2416\n",
            "Epoch [2/20], Loss: 0.0723\n",
            "Epoch [3/20], Loss: 0.0495\n",
            "Epoch [4/20], Loss: 0.0410\n",
            "Epoch [5/20], Loss: 0.0354\n",
            "Epoch [6/20], Loss: 0.0282\n",
            "Epoch [7/20], Loss: 0.0253\n",
            "Epoch [8/20], Loss: 0.0199\n",
            "Epoch [9/20], Loss: 0.0193\n",
            "Epoch [10/20], Loss: 0.0179\n",
            "Epoch [11/20], Loss: 0.0143\n",
            "Epoch [12/20], Loss: 0.0146\n",
            "Epoch [13/20], Loss: 0.0124\n",
            "Epoch [14/20], Loss: 0.0114\n",
            "Epoch [15/20], Loss: 0.0115\n",
            "Epoch [16/20], Loss: 0.0095\n",
            "Epoch [17/20], Loss: 0.0094\n",
            "Epoch [18/20], Loss: 0.0090\n",
            "Epoch [19/20], Loss: 0.0074\n",
            "Epoch [20/20], Loss: 0.0083\n",
            "Test Accuracy: 98.99%\n"
          ]
        }
      ]
    },
    {
      "cell_type": "code",
      "source": [
        "# Function to visualize predictions\n",
        "def visualize_predictions(model, testloader, num_images=5):\n",
        "    model.eval()  # Set model to evaluation mode\n",
        "\n",
        "    # Get some random test images\n",
        "    images, labels = next(iter(testloader))\n",
        "    images, labels = images[:num_images], labels[:num_images]\n",
        "\n",
        "    # Forward pass: Get predictions\n",
        "    with torch.no_grad():\n",
        "        outputs = model(images)\n",
        "\n",
        "    _, predicted = torch.max(outputs, 1)\n",
        "\n",
        "    # Plot the images and show true and predicted labels\n",
        "    fig, axes = plt.subplots(1, num_images, figsize=(10, 2))\n",
        "    for i in range(num_images):\n",
        "        img = images[i].squeeze()  # Remove the extra channel dimension\n",
        "        axes[i].imshow(img, cmap=\"gray\")\n",
        "        axes[i].set_title(f'True: {labels[i]}\\nPred: {predicted[i]}')\n",
        "        axes[i].axis('off')\n",
        "    plt.show()\n",
        "\n",
        "# Visualize predictions on 5 random test images\n",
        "visualize_predictions(model1, testloader, num_images=5)\n",
        "visualize_predictions(model2, testloader, num_images=5)"
      ],
      "metadata": {
        "colab": {
          "base_uri": "https://localhost:8080/",
          "height": 409
        },
        "id": "nb6Q7Sa4pVcT",
        "outputId": "c677f3cc-5114-4c91-a4f1-cab17d3f9c8c"
      },
      "execution_count": 17,
      "outputs": [
        {
          "output_type": "display_data",
          "data": {
            "text/plain": [
              "<Figure size 1000x200 with 5 Axes>"
            ],
            "image/png": "[encoded data removed]"
          },
          "metadata": {}
        },
        {
          "output_type": "display_data",
          "data": {
            "text/plain": [
              "<Figure size 1000x200 with 5 Axes>"
            ],
            "image/png": "[encoded data removed]"
          },
          "metadata": {}
        }
      ]
    }
  ]
}